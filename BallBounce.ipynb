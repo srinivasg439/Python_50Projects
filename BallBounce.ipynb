{
 "cells": [
  {
   "cell_type": "markdown",
   "id": "1b0c3368",
   "metadata": {},
   "source": [
    "Introduction:\n",
    "Let’s create a Ball Bouncing Game and make our lives a little bit easier using python.\n",
    "Did anyone think about creating our program to create a Ball Bouncing Game by ourselves?\n",
    "and what if I tell you!! You can do the same things with the help of a simple python script.\n",
    "\n",
    "Outline:\n",
    "In this project, we won’t take any input from the user. We just write the script and run the code. After running the script, a new window will appear showing the balls bouncing.\n",
    "\n",
    "Project Prerequisites:\n",
    "You have to install the pygame package to run this simple python script. Just we import a basic module called time and random to make use of its functions.\n",
    "\n",
    "pygame: pygame is a Python wrapper for the SDL library, which stands for Simple DirectMedia Layer. SDL provides cross-platform access to your system’s underlying multimedia hardware components, such as sound, video, mouse, keyboard, and joystick. pygame started life as a replacement for the stalled PySDL project."
   ]
  },
  {
   "cell_type": "code",
   "execution_count": 3,
   "id": "18f6986e",
   "metadata": {
    "collapsed": true
   },
   "outputs": [
    {
     "ename": "FileNotFoundError",
     "evalue": "No file 'background-img.jpg' found in working directory 'C:\\Users\\hp'.",
     "output_type": "error",
     "traceback": [
      "\u001b[1;31m---------------------------------------------------------------------------\u001b[0m",
      "\u001b[1;31mFileNotFoundError\u001b[0m                         Traceback (most recent call last)",
      "Cell \u001b[1;32mIn[3], line 10\u001b[0m\n\u001b[0;32m      8\u001b[0m \u001b[38;5;66;03m#setting screen size of pygame window to 800 by 600 pixels\u001b[39;00m\n\u001b[0;32m      9\u001b[0m screen\u001b[38;5;241m=\u001b[39mpygame\u001b[38;5;241m.\u001b[39mdisplay\u001b[38;5;241m.\u001b[39mset_mode((\u001b[38;5;241m800\u001b[39m,\u001b[38;5;241m600\u001b[39m))\n\u001b[1;32m---> 10\u001b[0m background\u001b[38;5;241m=\u001b[39m\u001b[43mpygame\u001b[49m\u001b[38;5;241;43m.\u001b[39;49m\u001b[43mimage\u001b[49m\u001b[38;5;241;43m.\u001b[39;49m\u001b[43mload\u001b[49m\u001b[43m(\u001b[49m\u001b[38;5;124;43m'\u001b[39;49m\u001b[38;5;124;43mbackground-img.jpg\u001b[39;49m\u001b[38;5;124;43m'\u001b[39;49m\u001b[43m)\u001b[49m\n\u001b[0;32m     12\u001b[0m \u001b[38;5;66;03m#Adding title\u001b[39;00m\n\u001b[0;32m     13\u001b[0m pygame\u001b[38;5;241m.\u001b[39mdisplay\u001b[38;5;241m.\u001b[39mset_caption(\u001b[38;5;124m'\u001b[39m\u001b[38;5;124mBall Bounce Simulation\u001b[39m\u001b[38;5;124m'\u001b[39m)\n",
      "\u001b[1;31mFileNotFoundError\u001b[0m: No file 'background-img.jpg' found in working directory 'C:\\Users\\hp'."
     ]
    }
   ],
   "source": [
    "#This program shows the simulation of 5 balls bouncing under gravitational acceleration.\n",
    "#It is also accompanied by eleastic collission with walls of the container.\n",
    "#It is fun to watch.\n",
    "import pygame,time,random\n",
    " \n",
    "pygame.init()\n",
    " \n",
    "#setting screen size of pygame window to 800 by 600 pixels\n",
    "screen=pygame.display.set_mode((800,600))\n",
    "background=pygame.image.load('background-img.jpg')\n",
    " \n",
    "#Adding title\n",
    "pygame.display.set_caption('Ball Bounce Simulation')\n",
    " \n",
    "class ball:\n",
    "    ball_image=pygame.image.load('ball.png')\n",
    "    g=1\n",
    "    def __init__(self):\n",
    "        self.velocityX=4\n",
    "        self.velocityY=4\n",
    "        self.X=random.randint(0,768)\n",
    "        self.Y=random.randint(0,350)\n",
    " \n",
    "    def render_ball(self):\n",
    "        screen.blit(ball.ball_image, (self.X,self.Y))\n",
    "    def move_ball(self):\n",
    "        #changing y component of velocity due to downward acceleration\n",
    "        self.velocityY+=ball.g\n",
    "        #changing position based on velocity\n",
    "        self.X+=self.velocityX\n",
    "        self.Y+=self.velocityY\n",
    "        #collission with the walls lead to change in velocity\n",
    "        if self.X<0 or self.X>768:\n",
    "            self.velocityX*=-1\n",
    "        if self.Y<0 and self.velocityY<0:\n",
    "            self.velocityY*=-1\n",
    "            self.Y=0\n",
    "        if self.Y>568 and self.velocityY>0:\n",
    "            self.velocityY*=-1\n",
    "            self.Y=568\n",
    "#list of balls created as objects\n",
    "Ball_List=[ball(),ball(), ball(), ball(), ball()]\n",
    " \n",
    "#The main program loop\n",
    "running=True\n",
    "while running:\n",
    "    for event in pygame.event.get():\n",
    "        if event.type == pygame.QUIT:\n",
    "            running=False\n",
    "     \n",
    "    time.sleep(0.02)\n",
    "    screen.blit(background, (0,0))\n",
    "    for ball_item in Ball_List:\n",
    "        ball_item.render_ball()\n",
    "        ball_item.move_ball()\n",
    "    pygame.display.update()"
   ]
  }
 ],
 "metadata": {
  "kernelspec": {
   "display_name": "Python 3 (ipykernel)",
   "language": "python",
   "name": "python3"
  },
  "language_info": {
   "codemirror_mode": {
    "name": "ipython",
    "version": 3
   },
   "file_extension": ".py",
   "mimetype": "text/x-python",
   "name": "python",
   "nbconvert_exporter": "python",
   "pygments_lexer": "ipython3",
   "version": "3.10.9"
  }
 },
 "nbformat": 4,
 "nbformat_minor": 5
}
