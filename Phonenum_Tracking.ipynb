{
 "cells": [
  {
   "cell_type": "markdown",
   "id": "3d26e97a",
   "metadata": {},
   "source": [
    "Introduction:\n",
    "------------------\n",
    "Python is a compelling language and also very rich in libraries. phonenumbers is one of the modules that provides numerous features like providing basic information about a phone number, validation of a phone number, etc. Here, we will learn how to use phonenumbers module along with folium and opencage packages to get the location of a phone number on a Map."
   ]
  },
  {
   "cell_type": "code",
   "execution_count": 12,
   "id": "12eb109a",
   "metadata": {},
   "outputs": [
    {
     "name": "stdout",
     "output_type": "stream",
     "text": [
      "Enter the PhoneNumber with the country code : +918050374837\n",
      "location : Bangalore, Karnataka\n",
      "service provider : Tata Docomo\n"
     ]
    }
   ],
   "source": [
    "# track location with the map using the phone number\n",
    "import phonenumbers\n",
    "from phonenumbers import geocoder\n",
    "from phonenumbers import carrier\n",
    "\n",
    "import folium\n",
    "\n",
    "from opencage.geocoder import OpenCageGeocode\n",
    "\n",
    "# taking input the phonenumber along with the country code\n",
    "number = input(\"Enter the PhoneNumber with the country code : \")\n",
    "# Parsing the phonenumber string to convert it into phonenumber format\n",
    "phoneNumber = phonenumbers.parse(number)\n",
    "\n",
    "# Storing the API Key in the Key variable\n",
    "Key = \"4752aa0b0c594300aff5d34abdbe6786\"  # generate your api https://opencagedata.com/api\n",
    "\n",
    "# Using the geocoder module of phonenumbers to print the Location in console\n",
    "yourLocation = geocoder.description_for_number(phoneNumber, \"en\")\n",
    "print(\"location : \" + yourLocation)\n",
    "\n",
    "# Using the carrier module of phonenumbers to print the service provider name in console\n",
    "yourServiceProvider = carrier.name_for_number(phoneNumber, \"en\")\n",
    "print(\"service provider : \" + yourServiceProvider)\n",
    "\n",
    "# Using opencage to get the latitude and longitude of the location\n",
    "geocoder = OpenCageGeocode(Key)\n",
    "query = str(yourLocation)\n",
    "results = geocoder.geocode(query)\n",
    "\n",
    "# Assigning the latitude and longitude values to the lat and lng variables\n",
    "lat = results[0]['geometry']['lat']\n",
    "lng = results[0]['geometry']['lng']\n",
    "\n",
    "# Getting the map for the given latitude and longitude\n",
    "myMap = folium.Map(loction=[lat, lng], zoom_start=9)\n",
    "\n",
    "# Adding a Marker on the map to show the location name\n",
    "folium.Marker([lat, lng], popup=yourLocation).add_to(myMap)\n",
    "\n",
    "# save map to html file to open it and see the actual location in map format\n",
    "myMap.save(\"D:\\Sample_Files\\Location.html\")"
   ]
  }
 ],
 "metadata": {
  "kernelspec": {
   "display_name": "Python 3 (ipykernel)",
   "language": "python",
   "name": "python3"
  },
  "language_info": {
   "codemirror_mode": {
    "name": "ipython",
    "version": 3
   },
   "file_extension": ".py",
   "mimetype": "text/x-python",
   "name": "python",
   "nbconvert_exporter": "python",
   "pygments_lexer": "ipython3",
   "version": "3.9.7"
  }
 },
 "nbformat": 4,
 "nbformat_minor": 5
}
