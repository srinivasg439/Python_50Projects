{
 "cells": [
  {
   "cell_type": "markdown",
   "id": "2903a225",
   "metadata": {},
   "source": [
    "Introduction:\n",
    "As you might know, sketching or creating a cartoon doesn’t always need to be done manually. Nowadays, many apps can turn your photos into cartoons. But what if I tell you, that you can create your effect with a few lines of code?\n",
    "\n",
    "There is a library called OpenCV which provides a common infrastructure for computer vision applications and has optimized machine-learning algorithms. It can be used to recognize objects, detect, and produce high-resolution images.\n",
    "\n",
    "Outline : \n",
    "In this tutorial, I will show you how to give a cartoon effect to an image in Python by utilizing OpenCV.\n",
    "\n",
    "To create a cartoon effect, we need to pay attention to two things; edge and color palette. Those are what make the differences between a photo and a cartoon. To adjust that two main components, there are four main steps that we will go through:\n",
    "\n",
    "● Load image\n",
    "● Create an edge mask\n",
    "● Reduce the color palette\n",
    "● Combine the edge mask with the colored image\n",
    "\n",
    "Project Prerequisites :\n",
    "Before jumping to the main steps, don’t forget to import the required libraries in your notebook, especially cv2 and NumPy.\n",
    "\n",
    "Cv2: It is an open-source library that can be used to perform tasks like face detection, objection tracking, landmark detection, and much more. It supports multiple languages including python, java, c++\n",
    "\n",
    "Numpy: numpy is a package that is used to deal with the pixels in the image which we ought to change into an animated version."
   ]
  },
  {
   "cell_type": "code",
   "execution_count": 32,
   "id": "5184c643",
   "metadata": {
    "collapsed": true
   },
   "outputs": [
    {
     "ename": "error",
     "evalue": "OpenCV(4.8.1) D:\\a\\opencv-python\\opencv-python\\opencv\\modules\\imgproc\\src\\color.cpp:182: error: (-215:Assertion failed) !_src.empty() in function 'cv::cvtColor'\n",
     "output_type": "error",
     "traceback": [
      "\u001b[1;31m---------------------------------------------------------------------------\u001b[0m",
      "\u001b[1;31merror\u001b[0m                                     Traceback (most recent call last)",
      "Cell \u001b[1;32mIn[32], line 8\u001b[0m\n\u001b[0;32m      5\u001b[0m img \u001b[38;5;241m=\u001b[39m cv2\u001b[38;5;241m.\u001b[39mimread(\u001b[38;5;124m\"\u001b[39m\u001b[38;5;124mdakota.jpg\u001b[39m\u001b[38;5;124m\"\u001b[39m)\n\u001b[0;32m      7\u001b[0m \u001b[38;5;66;03m# Edges\u001b[39;00m\n\u001b[1;32m----> 8\u001b[0m gray \u001b[38;5;241m=\u001b[39m \u001b[43mcv2\u001b[49m\u001b[38;5;241;43m.\u001b[39;49m\u001b[43mcvtColor\u001b[49m\u001b[43m(\u001b[49m\u001b[43mimg\u001b[49m\u001b[43m,\u001b[49m\u001b[43m \u001b[49m\u001b[43mcv2\u001b[49m\u001b[38;5;241;43m.\u001b[39;49m\u001b[43mCOLOR_BGR2GRAY\u001b[49m\u001b[43m)\u001b[49m\n\u001b[0;32m      9\u001b[0m gray \u001b[38;5;241m=\u001b[39m cv2\u001b[38;5;241m.\u001b[39mmedianBlur(gray, \u001b[38;5;241m5\u001b[39m)\n\u001b[0;32m     10\u001b[0m edges \u001b[38;5;241m=\u001b[39m cv2\u001b[38;5;241m.\u001b[39madaptiveThreshold(gray, \u001b[38;5;241m255\u001b[39m, cv2\u001b[38;5;241m.\u001b[39mADAPTIVE_THRESH_MEAN_C,cv2\u001b[38;5;241m.\u001b[39mTHRESH_BINARY, \u001b[38;5;241m9\u001b[39m, \u001b[38;5;241m9\u001b[39m)\n",
      "\u001b[1;31merror\u001b[0m: OpenCV(4.8.1) D:\\a\\opencv-python\\opencv-python\\opencv\\modules\\imgproc\\src\\color.cpp:182: error: (-215:Assertion failed) !_src.empty() in function 'cv::cvtColor'\n"
     ]
    }
   ],
   "source": [
    "import cv2\n",
    "import numpy as np\n",
    " \n",
    "# reading image \n",
    "img = cv2.imread(\"dakota.jpg\")\n",
    " \n",
    "# Edges\n",
    "gray = cv2.cvtColor(img, cv2.COLOR_BGR2GRAY)\n",
    "gray = cv2.medianBlur(gray, 5)\n",
    "edges = cv2.adaptiveThreshold(gray, 255, cv2.ADAPTIVE_THRESH_MEAN_C,cv2.THRESH_BINARY, 9, 9)\n",
    " \n",
    "# Cartoonization\n",
    "color = cv2.bilateralFilter(img, 9, 250, 250)\n",
    "cartoon = cv2.bitwise_and(color, color, mask=edges)\n",
    "    \n",
    "    \n",
    "cv2.imshow(\"Image\", img)\n",
    "cv2.imshow(\"edges\", edges)\n",
    "cv2.imshow(\"Cartoon\", cartoon)\n",
    "cv2.waitKey(0)\n",
    "cv2.destroyAllWindows()"
   ]
  }
 ],
 "metadata": {
  "kernelspec": {
   "display_name": "Python 3 (ipykernel)",
   "language": "python",
   "name": "python3"
  },
  "language_info": {
   "codemirror_mode": {
    "name": "ipython",
    "version": 3
   },
   "file_extension": ".py",
   "mimetype": "text/x-python",
   "name": "python",
   "nbconvert_exporter": "python",
   "pygments_lexer": "ipython3",
   "version": "3.10.9"
  }
 },
 "nbformat": 4,
 "nbformat_minor": 5
}
