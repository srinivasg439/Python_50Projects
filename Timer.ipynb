{
 "cells": [
  {
   "cell_type": "markdown",
   "id": "8950ac19",
   "metadata": {},
   "source": [
    "Introduction :\n",
    "Everyone requires a stopwatch, to calculate the time spent in any participation or some other cases. Every electronic device is included with a pre-installed stopwatch, but what if I tell you that, you can achieve the countdown timer just by a few lines of python code on your own, interesting right? In this tutorial, we’ll look into how we can achieve a countdown timer in python.\n",
    "\n",
    "Outline :\n",
    "A countdown timer is just a simple clock that counts the time in reverse from the starting point to zero.\n",
    "\n",
    "A countdown timer is a virtual clock on the console that counts down from a certain number to indicate the beginning or end of an event or offer. This rushes the people to do the actions a quick and generates more conversions because “time is running out.” Countdown timers can also be used to count down to when an offer becomes available at a specific date and time.\n",
    "\n",
    "Project Prerequisites : \n",
    "Time: The Python time module provides many ways of representing time in code, such as objects, numbers, and strings. It also provides functionality other than representing time, like waiting during code execution and measuring the efficiency of your code."
   ]
  },
  {
   "cell_type": "code",
   "execution_count": 7,
   "id": "835d057f",
   "metadata": {},
   "outputs": [
    {
     "name": "stdout",
     "output_type": "stream",
     "text": [
      "Enter the time in seconds: 20\n",
      "Time's Up!\n"
     ]
    }
   ],
   "source": [
    "import time\n",
    "def countdown(t):\n",
    "    while t:\n",
    "        mins, secs = divmod(t, 60)\n",
    "        timer = '{:02d}:{:02d}'.format(mins, secs)\n",
    "        print(timer, end=\"\\r\")\n",
    "        time.sleep(1)\n",
    "        t -= 1\n",
    "t = input(\"Enter the time in seconds: \")\n",
    "countdown(int(t))\n",
    "print(\"Time's Up!\")"
   ]
  }
 ],
 "metadata": {
  "kernelspec": {
   "display_name": "Python 3 (ipykernel)",
   "language": "python",
   "name": "python3"
  },
  "language_info": {
   "codemirror_mode": {
    "name": "ipython",
    "version": 3
   },
   "file_extension": ".py",
   "mimetype": "text/x-python",
   "name": "python",
   "nbconvert_exporter": "python",
   "pygments_lexer": "ipython3",
   "version": "3.10.9"
  }
 },
 "nbformat": 4,
 "nbformat_minor": 5
}
