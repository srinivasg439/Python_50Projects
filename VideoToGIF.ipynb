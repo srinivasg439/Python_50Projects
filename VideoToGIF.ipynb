{
 "cells": [
  {
   "cell_type": "markdown",
   "id": "f3d36ebd",
   "metadata": {},
   "source": [
    "INTRODUCTION:\n",
    "Hello, world… Here, I am going to show you how to create a GIF from a video using Python.\n",
    "\n",
    "For this, we need a library called moviepy and tkinter.\n",
    "\n",
    "“moviepy” is a Python library used for video editings like cuttings, video concatenations, title insertions, video compositing i.e., non-linear editing, video processing, and creation of custom effects.\n",
    "\n",
    "And I am gonna use the tkinter library for accessing the video file easily.\n",
    "\n",
    "“tkinter” is the standard Graphical User Interface (GUI) library for python. Python with tkinter results from the fast and easy way to create a GUI application.\n",
    "\n",
    "In simple words, tkinter is the python interface to the Tcl/Tk GUI toolkit."
   ]
  },
  {
   "cell_type": "code",
   "execution_count": null,
   "id": "6dfe677d",
   "metadata": {},
   "outputs": [],
   "source": [
    "#importing the modules...\n",
    " \n",
    "from moviepy.editor import VideoFileClip\n",
    "from tkinter.filedialog import *\n",
    " \n",
    "# This line asks You to open a file...\n",
    "video = askopenfilename()\n",
    " \n",
    "clip = VideoFileClip(video)\n",
    " \n",
    "#gifname you want to save with...\n",
    "gifname = input(\"Enter the GIF name to be saved : \") \n",
    " \n",
    "#this line used imageio to create gifs\n",
    "clip.write_gif(gifname,fps=10)"
   ]
  }
 ],
 "metadata": {
  "kernelspec": {
   "display_name": "Python 3 (ipykernel)",
   "language": "python",
   "name": "python3"
  },
  "language_info": {
   "codemirror_mode": {
    "name": "ipython",
    "version": 3
   },
   "file_extension": ".py",
   "mimetype": "text/x-python",
   "name": "python",
   "nbconvert_exporter": "python",
   "pygments_lexer": "ipython3",
   "version": "3.10.9"
  }
 },
 "nbformat": 4,
 "nbformat_minor": 5
}
