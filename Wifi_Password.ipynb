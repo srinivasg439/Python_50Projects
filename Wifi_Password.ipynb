{
 "cells": [
  {
   "cell_type": "code",
   "execution_count": 1,
   "id": "06d441a6",
   "metadata": {},
   "outputs": [
    {
     "name": "stdout",
     "output_type": "stream",
     "text": [
      "pavi@9550                     |  12345689\n",
      "Redmi Note 7 Pro              |  Manvith@08\n",
      "SRINIVASULU                   |  9742319115\n"
     ]
    }
   ],
   "source": [
    "import subprocess\n",
    " \n",
    "data = (\n",
    "    subprocess.check_output([\"netsh\", \"wlan\", \"show\", \"profiles\"])\n",
    "    .decode(\"utf-8\")\n",
    "    .split(\"\\n\")\n",
    ")\n",
    "profiles = [i.split(\":\")[1][1:-1] for i in data if \"All User Profile\" in i]\n",
    "for i in profiles:\n",
    "    results = (\n",
    "        subprocess\n",
    "        .check_output([\"netsh\", \"wlan\", \"show\", \"profile\", i, \"key=clear\"])\n",
    "        .decode(\"utf-8\")\n",
    "        .split(\"\\n\")\n",
    "    )\n",
    "    results = [b.split(\":\")[1][1:-1] for b in results if \"Key Content\" in b]\n",
    "    try:\n",
    "        print(\"{:<30}|  {:<}\".format(i, results[0]))\n",
    "    except IndexError:\n",
    "        print(\"{:<30}|  {:<}\".format(i, \"\"))"
   ]
  }
 ],
 "metadata": {
  "kernelspec": {
   "display_name": "Python 3 (ipykernel)",
   "language": "python",
   "name": "python3"
  },
  "language_info": {
   "codemirror_mode": {
    "name": "ipython",
    "version": 3
   },
   "file_extension": ".py",
   "mimetype": "text/x-python",
   "name": "python",
   "nbconvert_exporter": "python",
   "pygments_lexer": "ipython3",
   "version": "3.10.9"
  }
 },
 "nbformat": 4,
 "nbformat_minor": 5
}
