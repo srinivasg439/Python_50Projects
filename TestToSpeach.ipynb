{
 "cells": [
  {
   "cell_type": "markdown",
   "id": "e4204ddf",
   "metadata": {},
   "source": [
    "Introduction:\n",
    "Text to speech is the generation of speech synthesized from the text. The technology used to communicate with users when reading on a screen is not possible or impractical. This not only opens up apps and information to use in new ways but can also make the world more accessible to people who cannot read text on a screen. In this article, I will take you through building your TTS with Python.\n",
    "\n",
    "The technology behind the TTS has evolved over the past few decades. Using natural language processing, it is now possible to produce very natural speech that includes changes in pitch, speed, pronunciation, and inflection.\n",
    "\n",
    "Project Prerequisites:\n",
    "We need to install several libraries for this project like – newspaper, nltk, gtts.\n",
    "We’ll also use the os module but we don’t need to install it as it is a built-in module.\n",
    "First, let’s install the newspaper library that we need. We’ll use the command – pip install newspaper3k.\n",
    "After that we’ll install the remaining modules using the command – pip install package_name."
   ]
  },
  {
   "cell_type": "code",
   "execution_count": 7,
   "id": "7c83a3be",
   "metadata": {},
   "outputs": [
    {
     "name": "stderr",
     "output_type": "stream",
     "text": [
      "[nltk_data] Downloading package punkt to\n",
      "[nltk_data]     C:\\Users\\hp\\AppData\\Roaming\\nltk_data...\n",
      "[nltk_data]   Unzipping tokenizers\\punkt.zip.\n"
     ]
    },
    {
     "data": {
      "text/plain": [
       "0"
      ]
     },
     "execution_count": 7,
     "metadata": {},
     "output_type": "execute_result"
    }
   ],
   "source": [
    "#Import the libraries\n",
    "from newspaper import Article\n",
    "import nltk\n",
    "from gtts import gTTS\n",
    "import os\n",
    " \n",
    "#Get the article\n",
    "article = Article('https://hackernoon.com/future-of-python-language-bright-or-dull-uv41u3xwx')\n",
    " \n",
    "article.download()\n",
    "article.parse()\n",
    " \n",
    "nltk.download('punkt')\n",
    "article.nlp()\n",
    " \n",
    "#Get the articles text\n",
    "mytext = article.text\n",
    " \n",
    "language = 'en' #English\n",
    " \n",
    "myobj = gTTS(text=mytext, lang=language, slow=False)\n",
    " \n",
    "myobj.save(\"read_article.mp3\")\n",
    " \n",
    "os.system(\"start read_article.mp3\")"
   ]
  },
  {
   "cell_type": "code",
   "execution_count": 6,
   "id": "946c5d77",
   "metadata": {
    "collapsed": true
   },
   "outputs": [
    {
     "name": "stdout",
     "output_type": "stream",
     "text": [
      "Requirement already satisfied: nltk in c:\\users\\hp\\anaconda3\\lib\\site-packages (3.7)\n",
      "Requirement already satisfied: regex>=2021.8.3 in c:\\users\\hp\\anaconda3\\lib\\site-packages (from nltk) (2022.7.9)\n",
      "Requirement already satisfied: click in c:\\users\\hp\\anaconda3\\lib\\site-packages (from nltk) (8.0.4)\n",
      "Requirement already satisfied: joblib in c:\\users\\hp\\anaconda3\\lib\\site-packages (from nltk) (1.1.1)\n",
      "Requirement already satisfied: tqdm in c:\\users\\hp\\anaconda3\\lib\\site-packages (from nltk) (4.64.1)\n",
      "Requirement already satisfied: colorama in c:\\users\\hp\\anaconda3\\lib\\site-packages (from click->nltk) (0.4.6)\n"
     ]
    }
   ],
   "source": []
  }
 ],
 "metadata": {
  "kernelspec": {
   "display_name": "Python 3 (ipykernel)",
   "language": "python",
   "name": "python3"
  },
  "language_info": {
   "codemirror_mode": {
    "name": "ipython",
    "version": 3
   },
   "file_extension": ".py",
   "mimetype": "text/x-python",
   "name": "python",
   "nbconvert_exporter": "python",
   "pygments_lexer": "ipython3",
   "version": "3.10.9"
  }
 },
 "nbformat": 4,
 "nbformat_minor": 5
}
