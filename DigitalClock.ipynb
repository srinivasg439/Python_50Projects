{
 "cells": [
  {
   "cell_type": "code",
   "execution_count": 1,
   "id": "ea98637f",
   "metadata": {},
   "outputs": [],
   "source": [
    "from tkinter import *\n",
    "from tkinter.ttk import *\n",
    "from time import strftime \n",
    "root = Tk() \n",
    "root.title('Clock') \n",
    "def time(): \n",
    "    string = strftime('%H:%M:%S %p') \n",
    "    lbl.config(text = string) \n",
    "    lbl.after(1000, time) \n",
    "lbl = Label(root, font = ('franklin gothic', 40, 'bold'), \n",
    "            background = 'black', \n",
    "            foreground = 'white') \n",
    "lbl.pack(anchor = 'center') \n",
    "time()  \n",
    "mainloop()"
   ]
  }
 ],
 "metadata": {
  "kernelspec": {
   "display_name": "Python 3 (ipykernel)",
   "language": "python",
   "name": "python3"
  },
  "language_info": {
   "codemirror_mode": {
    "name": "ipython",
    "version": 3
   },
   "file_extension": ".py",
   "mimetype": "text/x-python",
   "name": "python",
   "nbconvert_exporter": "python",
   "pygments_lexer": "ipython3",
   "version": "3.10.9"
  }
 },
 "nbformat": 4,
 "nbformat_minor": 5
}
