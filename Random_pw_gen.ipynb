{
 "cells": [
  {
   "cell_type": "markdown",
   "id": "b55974ee",
   "metadata": {},
   "source": [
    "Introduction:\n",
    "------------------\n",
    "Let’s create a Random Password Generator that takes input as password length and generates a password of that length with the random characters.\n",
    "\n",
    "The Random Password Generator is very useful when signing up for any website for temporary work and every time every user dont need to think about a new password. He can generate a password randomly and use it there for that moment.\n",
    "\n",
    "Outline:\n",
    "-----------\n",
    "In this project, we will take password length as input from the user and generate a random string and give it as a result. We just write our python script in any text editor or IDE and run it. After running the script and entering the password length, we will be given a random password of that length.\n",
    "\n",
    "Project Prerequisites:\n",
    "------------------------------\n",
    "You don’t have to install any package in your system to run this script. Because we just use this program to create a string with all the combinations of digits, characters, and special symbols.\n",
    "\n",
    "The modules we use in this project are:\n",
    "\n",
    "1. random\n",
    "2. math\n",
    "\n"
   ]
  },
  {
   "cell_type": "code",
   "execution_count": 3,
   "id": "b33855de",
   "metadata": {},
   "outputs": [
    {
     "name": "stdout",
     "output_type": "stream",
     "text": [
      "plz enter the length of the pw10\n",
      "**d8Tm04YF\n"
     ]
    }
   ],
   "source": [
    "import random\n",
    "import math\n",
    "\n",
    "alpha = 'abcdefghijklmnopqrstuvwxyz'\n",
    "num = '0123456789'\n",
    "special = '@#$%&*'\n",
    "\n",
    "pas_len = random.randint(8,13) #without user input\n",
    "pas_len = int(input('plz enter the length of the pw'))\n",
    "\n",
    "# length of password  by 50-30-20 formula\n",
    "alpha_len = pas_len//2\n",
    "num_len = math.ceil(pas_len*30/100)\n",
    "special_len = pas_len-(alpha_len+num_len)\n",
    "\n",
    "password = []\n",
    "\n",
    "def generate_pass(length,array,is_alpha=False):\n",
    "    for i in range(length):\n",
    "        index = random.randint(0,len(array)-1)\n",
    "        character = array[index]\n",
    "        if is_alpha:\n",
    "            case = random.randint(0,1)\n",
    "            if case == 1:\n",
    "                character = character.upper()\n",
    "        password.append(character)\n",
    "        \n",
    "#alpha password\n",
    "generate_pass(alpha_len,alpha,True)\n",
    "\n",
    "#numeric password\n",
    "generate_pass(num_len,num)\n",
    "\n",
    "#special character password\n",
    "generate_pass(special_len,special)\n",
    "# shuffle the generated password list\n",
    "random.shuffle(password)\n",
    "# convert list to string\n",
    "\n",
    "gen_password = \"\"\n",
    "for i in password:\n",
    "    gen_password = gen_password + str(i)\n",
    "    \n",
    "print(gen_password)\n",
    "\n",
    "\n",
    "\n",
    "\n",
    "\n",
    "\n",
    "\n"
   ]
  }
 ],
 "metadata": {
  "kernelspec": {
   "display_name": "Python 3 (ipykernel)",
   "language": "python",
   "name": "python3"
  },
  "language_info": {
   "codemirror_mode": {
    "name": "ipython",
    "version": 3
   },
   "file_extension": ".py",
   "mimetype": "text/x-python",
   "name": "python",
   "nbconvert_exporter": "python",
   "pygments_lexer": "ipython3",
   "version": "3.9.7"
  }
 },
 "nbformat": 4,
 "nbformat_minor": 5
}
