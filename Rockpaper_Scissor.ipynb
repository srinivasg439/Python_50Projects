{
  "nbformat": 4,
  "nbformat_minor": 0,
  "metadata": {
    "colab": {
      "provenance": []
    },
    "kernelspec": {
      "name": "python3",
      "display_name": "Python 3"
    },
    "language_info": {
      "name": "python"
    }
  },
  "cells": [
    {
      "cell_type": "markdown",
      "source": [
        "Project Outline\n",
        "---------------\n",
        "\n",
        "We will ask the user to select either rock paper or scissors and we will also make the computer choose one out of three randomly. Now we will check who won the game and give them a score. This is done 5 times to say who has won finally \n",
        "and we will ask the user if they want to continue or reset and continue or exit\n",
        "the game."
      ],
      "metadata": {
        "id": "vr77LOIyuNqL"
      }
    },
    {
      "cell_type": "markdown",
      "source": [
        "Algorithm\n",
        "---------\n",
        "\n",
        "1. Import the random module\n",
        "2. Initialize the global variable for choices as tuple of r,p,s and computer score and player score as 0.\n",
        "3. Create a funtion for getting the player's choice\n",
        "  1. Inside the function get the input from the user\n",
        "  2. Check if the input is valid, if yes then return the answer to the function\n",
        "     call. If no,then return function call so that it will ask again input from \n",
        "     the user.\n",
        "4. Create funtion to return's computer choice as input from random choice function.\n",
        "5. create a game function inside which we will check who scores the mount for the current game.\n",
        "  1. Call the player's choice funtion and save the answer in variable.\n",
        "  2. Call the computer's choice funtion and save it in another variable.\n",
        "  3. Now ,check both the answers are same,if so then print its a tie and no one\n",
        "     get's point.\n",
        "  4. Following are the scenarios where player gets a point.\n",
        "  \n",
        "      a). Player choice:\"r\" , computer choice : \"s\"\n",
        "      b). Player choice:\"s\" , computer choice : \"p\"\n",
        "      c). player choice:\"p\" , computer choice : \"r\"\n",
        "  5. In all other conditions computer scores point\n",
        "  6. Now, print the both points to the user\n",
        "6. Now, In main part of our program, we need to write a welcome message.\n",
        "7. Call the game funtion 4 times for runnig the game for 4 rounds.\n",
        "8. Ask the user if the user wants to continue/reset and continue/quit.\n",
        "  1. If the user wants to continue repeat stemp 7.\n",
        "  2. If the user wants to reset and continue re-declare the variables for\n",
        "     player score and computer score to zero and repeat step 7.\n",
        "  3. If the player wants to quit you can print thank you for playing and exit \n",
        "     the game.\n"
      ],
      "metadata": {
        "id": "R4WHBe29wKLB"
      }
    },
    {
      "cell_type": "code",
      "execution_count": 5,
      "metadata": {
        "colab": {
          "base_uri": "https://localhost:8080/"
        },
        "id": "OzLRi2XxuL43",
        "outputId": "c315c991-8d37-4c00-baa0-d8788a141d0a"
      },
      "outputs": [
        {
          "output_type": "stream",
          "name": "stdout",
          "text": [
            "Welcome to  Rock Paper and Scissors game! ! !\n",
            "Choose either rock(r), paper(p), Scissor(s). s\n",
            "The Computer has chosen  s\n",
            "You choice s\n",
            "It's Tie ! No one gets point. \n",
            "Choose either rock(r), paper(p), Scissor(s). s\n",
            "The Computer has chosen  s\n",
            "You choice s\n",
            "It's Tie ! No one gets point. \n",
            "Choose either rock(r), paper(p), Scissor(s). s\n",
            "The Computer has chosen  r\n",
            "You choice s\n",
            "Aww. I won!\n",
            "\n",
            "Choose either rock(r), paper(p), Scissor(s). s\n",
            "The Computer has chosen  r\n",
            "You choice s\n",
            "Aww. I won!\n",
            "\n",
            "Choose either rock(r), paper(p), Scissor(s). s\n",
            "The Computer has chosen  r\n",
            "You choice s\n",
            "Aww. I won!\n",
            "\n",
            "Good Job! \n",
            " Your score is : 0 \n",
            " My score is: 3\n",
            "\n",
            "Press 1 to continue:\n",
            " Press 2 to reset and continue:\n",
            " Press 3  to exit game :3\n",
            "OK ! Bye !\n"
          ]
        }
      ],
      "source": [
        "import random #importing the random module\n",
        "\n",
        "#Initializing the variables\n",
        "choices =('r' , 'p' , 's')\n",
        "cPoints = 0\n",
        "pPoints = 0\n",
        "\n",
        "def player():\n",
        "  \"\"\"This funtion is used to get players choice.\"\"\"\n",
        "  global choices #declaring the variable choices to the global\n",
        "  symbol = input(\"Choose either rock(r), paper(p), Scissor(s). \")\n",
        "\n",
        "  if symbol not in choices:\n",
        "    print(\"You did not enter valid option. \")\n",
        "    return player() #using recursion to get valid input\n",
        "  else:\n",
        "    return symbol #if valid input return the answer\n",
        "\n",
        "def computer():\n",
        "  \"\"\"This funtion is used to get computer choice.\"\"\"\n",
        "  return random.choice(choices)\n",
        "\n",
        "def game():\n",
        "  \"\"\"This function is used to play a single round of game\"\"\"\n",
        "\n",
        "  global cPoints,pPoints #Declaring cPoints,pPoints to be global\n",
        "  pChoice = player()#getting the player choice\n",
        "  cChoice = computer()#getting the computers choice\n",
        "  print(\"The Computer has chosen \", cChoice)\n",
        "  print(\"You choice\", pChoice)\n",
        "\n",
        "  if pChoice == cChoice:#checking for tie\n",
        "    print(\"It's Tie ! No one gets point. \")\n",
        "  elif (pChoice == \"r\" and cChoice == \"s\") or (pChoice == \"s\" and cChoice == \"p\"):\n",
        "    print(\"You won!\")\n",
        "    pPoints +=1 #Increment the players point by 1\n",
        "  else: #checking if computer scores a point\n",
        "    print('Aww. I won!')\n",
        "    cPoints +=1 #Increment the computers point by 1\n",
        "    print()\n",
        "\n",
        "print(\"Welcome to  Rock Paper and Scissors game! ! !\")\n",
        "\n",
        "while True: #Creating infinite loop\n",
        "  for i in range(5):# loop that runs 5 times\n",
        "    game() #Calling the game() function for every single round\n",
        "  print('Good Job! \\n Your score is :',pPoints,'\\n My score is:',cPoints)\n",
        "  print()\n",
        "  again = int(input(\"Press 1 to continue:\\n Press 2 to reset and continue:\\n Press 3  to exit game :\"))\n",
        "  if again == 1: #This is executed if the user wants to play another 5 rounds\n",
        "    continue\n",
        "  elif again == 2: #This is executed if the user wants to reset the score\n",
        "    pPoints = 0\n",
        "    cPoints = 0\n",
        "    continue\n",
        "  else: #This is executed if the user wants to quit game\n",
        "    break\n",
        "print(\"OK ! Bye !\")\n",
        "\n",
        "\n",
        "\n",
        "\n",
        "\n",
        "\n"
      ]
    }
  ]
}