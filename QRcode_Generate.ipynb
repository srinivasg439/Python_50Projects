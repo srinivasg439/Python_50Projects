{
  "nbformat": 4,
  "nbformat_minor": 0,
  "metadata": {
    "colab": {
      "provenance": []
    },
    "kernelspec": {
      "name": "python3",
      "display_name": "Python 3"
    },
    "language_info": {
      "name": "python"
    }
  },
  "cells": [
    {
      "cell_type": "markdown",
      "source": [
        "About Project :\n",
        "\n",
        "In this article, we will discuss how to generate a QRcode using python.\n",
        "\n",
        "QR code (Quick Response code)  is a type of the matrix barcode invented in 1994 by the Japanese automotive company Denso Wave. A barcode is a machine-readable optical label that can contain information about the item to which it is attached.\n",
        "\n",
        "Using Python packages like qrcode, pyqrcode modules we can generate and read the QR codes. In this project, we will see how we can generate the QR Codes using python.\n",
        "\n",
        "In this project, we will take the link from the user and the basic requirements like name, box size, etc, and generate a QRcode with the given information.\n",
        "\n",
        "You can generate the QR code and save it in png format.\n",
        "\n",
        "Project Prerequisites:\n",
        "\n",
        "You have to install the pip packages known as qrcode and image.\n",
        "qrcode: the python package used to generate the QRcode by taking user requirements.\n",
        "\n",
        "Image: this package is used to save the generated QR Code in our required image format.\n",
        "\n",
        "Getting Started:\n",
        "Let’s Get started…\n",
        "\n",
        "Hello World. Here, I will show you how to create a QRcode using Python.\n",
        "\n",
        "Let’s see how to generate QRcode in Python.\n",
        "\n",
        "First, we need to install 2 modules using the cmd\n",
        "\n",
        "qrcode  (pip  install QRcode)\n",
        "\n",
        "image (pip  install image)\n",
        "\n",
        "The module automates most of the building process for creating QR codes. This module attempts to follow the QR code standard as closely as possible."
      ],
      "metadata": {
        "id": "1_x9KoEp9r07"
      }
    },
    {
      "cell_type": "code",
      "execution_count": 3,
      "metadata": {
        "colab": {
          "base_uri": "https://localhost:8080/"
        },
        "id": "sCimmfWQkmb-",
        "outputId": "e12ad43c-1b25-4954-a215-736edbcc7d3c"
      },
      "outputs": [
        {
          "output_type": "stream",
          "name": "stdout",
          "text": [
            "Looking in indexes: https://pypi.org/simple, https://us-python.pkg.dev/colab-wheels/public/simple/\n",
            "Collecting QRcode\n",
            "  Downloading qrcode-7.4.2-py3-none-any.whl (46 kB)\n",
            "\u001b[2K     \u001b[90m━━━━━━━━━━━━━━━━━━━━━━━━━━━━━━━━━━━━━━━━\u001b[0m \u001b[32m46.2/46.2 kB\u001b[0m \u001b[31m5.8 MB/s\u001b[0m eta \u001b[36m0:00:00\u001b[0m\n",
            "\u001b[?25hCollecting pypng\n",
            "  Downloading pypng-0.20220715.0-py3-none-any.whl (58 kB)\n",
            "\u001b[2K     \u001b[90m━━━━━━━━━━━━━━━━━━━━━━━━━━━━━━━━━━━━━━━━\u001b[0m \u001b[32m58.1/58.1 kB\u001b[0m \u001b[31m8.0 MB/s\u001b[0m eta \u001b[36m0:00:00\u001b[0m\n",
            "\u001b[?25hRequirement already satisfied: typing-extensions in /usr/local/lib/python3.10/dist-packages (from QRcode) (4.5.0)\n",
            "Installing collected packages: pypng, QRcode\n",
            "Successfully installed QRcode-7.4.2 pypng-0.20220715.0\n"
          ]
        }
      ],
      "source": [
        "!pip install QRcode"
      ]
    },
    {
      "cell_type": "code",
      "source": [
        "!pip install image"
      ],
      "metadata": {
        "colab": {
          "base_uri": "https://localhost:8080/"
        },
        "id": "VuwmufSSk3h5",
        "outputId": "9bfae5b5-6b41-467c-8985-1b2141c72038"
      },
      "execution_count": 4,
      "outputs": [
        {
          "output_type": "stream",
          "name": "stdout",
          "text": [
            "Looking in indexes: https://pypi.org/simple, https://us-python.pkg.dev/colab-wheels/public/simple/\n",
            "Collecting image\n",
            "  Downloading image-1.5.33.tar.gz (15 kB)\n",
            "  Preparing metadata (setup.py) ... \u001b[?25l\u001b[?25hdone\n",
            "Requirement already satisfied: pillow in /usr/local/lib/python3.10/dist-packages (from image) (8.4.0)\n",
            "Collecting django\n",
            "  Downloading Django-4.2.1-py3-none-any.whl (8.0 MB)\n",
            "\u001b[2K     \u001b[90m━━━━━━━━━━━━━━━━━━━━━━━━━━━━━━━━━━━━━━━━\u001b[0m \u001b[32m8.0/8.0 MB\u001b[0m \u001b[31m67.8 MB/s\u001b[0m eta \u001b[36m0:00:00\u001b[0m\n",
            "\u001b[?25hRequirement already satisfied: six in /usr/local/lib/python3.10/dist-packages (from image) (1.16.0)\n",
            "Requirement already satisfied: sqlparse>=0.3.1 in /usr/local/lib/python3.10/dist-packages (from django->image) (0.4.4)\n",
            "Collecting asgiref<4,>=3.6.0\n",
            "  Downloading asgiref-3.6.0-py3-none-any.whl (23 kB)\n",
            "Building wheels for collected packages: image\n",
            "  Building wheel for image (setup.py) ... \u001b[?25l\u001b[?25hdone\n",
            "  Created wheel for image: filename=image-1.5.33-py2.py3-none-any.whl size=19497 sha256=c6e4cc5b64be17d1342b0492a53c814abfdd03f9f2845312eadae7dd30b792cd\n",
            "  Stored in directory: /root/.cache/pip/wheels/70/0c/a4/7cfa53a5c6225c2db2bfec08e782b43d0f25fdae2e995b69be\n",
            "Successfully built image\n",
            "Installing collected packages: asgiref, django, image\n",
            "Successfully installed asgiref-3.6.0 django-4.2.1 image-1.5.33\n"
          ]
        }
      ]
    },
    {
      "cell_type": "markdown",
      "source": [
        "Now, let’s move on to the coding part…\n",
        "\n",
        "qr = qrcode.QRCode(version ,box_size,border )\n",
        "\n",
        "When creating a QR code only the content to be encoded is required, all the other properties of the code will be guessed based on the contents given. This function will return a QR object.\n",
        "\n",
        "Here, is the version: This parameter specifies the size and data capacity of the code.\n",
        "\n",
        "box_size: the size of the box where the QR code will be displayed.\n",
        "\n",
        "border: it is the size of the border around the QRCode usually white in color."
      ],
      "metadata": {
        "id": "VE6SCvh6--mG"
      }
    },
    {
      "cell_type": "code",
      "source": [
        "#Encoding Data into Quick Response code (QR code)\n",
        "import qrcode\n",
        "\n",
        "#Data to encode\n",
        "\n",
        "data = input('enter the data:')\n",
        "\n",
        "version = int(input('enter the version(complexity):')) #max value 15\n",
        "box_size = int(input('enter the box size:'))#max value 10\n",
        "\n",
        "#Creating an instance of QR code class\n",
        "qr = qrcode.QRCode(version,box_size,border=5)\n",
        "\n",
        "#Adding data to the instance 'qr'\n",
        "\n",
        "qr.add_data(data)\n",
        "\n",
        "qr.make(fit=True)\n",
        "img = qr.make_image(fill_color = 'black',back_color = 'white')\n",
        "\n",
        "f1=input('name it as:') #image name\n",
        "img.save(f'{f1}.png')\n",
        "\n",
        "print('qr code generated and saved in the gallery')\n",
        "                   "
      ],
      "metadata": {
        "colab": {
          "base_uri": "https://localhost:8080/"
        },
        "id": "N1bm8Zgy-eEZ",
        "outputId": "8f1ec826-3200-433f-8a12-2e591c873820"
      },
      "execution_count": 6,
      "outputs": [
        {
          "output_type": "stream",
          "name": "stdout",
          "text": [
            "enter the data:www.youtube.com\n",
            "enter the version(complexity):15\n",
            "enter the box size:2\n",
            "name it as:youtube\n",
            "qr code generated and saved in the gallery\n"
          ]
        }
      ]
    },
    {
      "cell_type": "markdown",
      "source": [
        "after the execution of the program, the QR code will be generated in the same directory with the user’s given name in .png format."
      ],
      "metadata": {
        "id": "EkIJpgnsGak_"
      }
    }
  ]
}