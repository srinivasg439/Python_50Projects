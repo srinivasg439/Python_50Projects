{
 "cells": [
  {
   "cell_type": "markdown",
   "id": "d104db21",
   "metadata": {},
   "source": [
    "Introduction:\n",
    "This python script removes duplicate files in the directory where the script runs. It first lists all the files in the directory and checks whether they have existing files or not. If exists it deletes the duplicate files.\n",
    "\n",
    "A duplicate file is a copy of a file on your computer that may be stored in the same folder or in another folder.\n",
    "\n",
    "Duplicate files have absolutely identical content, size, and extensions but might have different file names.\n",
    "\n",
    "Project Prerequisites:\n",
    "There are no external libraries that we are going to use to run this simple python script.\n",
    "\n",
    "os\n",
    "\n",
    "hashlib\n",
    "\n",
    "os:\n",
    "\n",
    "The OS module in Python provides functions for creating and removing a directory (folder), fetching its contents, changing and identifying the current directory, etc.,\n",
    "\n",
    "It is possible to automatically perform many operating system tasks. The OS module in Python provides functions for creating and removing a directory (folder), fetching its contents, changing and identifying the current directory, etc.\n",
    "\n",
    "You first need to import the os module to interact with the underlying operating system. So, import it using the import os statement before using its functions.\n",
    "\n",
    "\n",
    "hashlib:\n",
    "\n",
    "hashlib hashing function takes a variable length of bytes and converts it into a fixed-length sequence. The Python hashlib module is an interface for hashing messages easily. this contains numerous methods which will handle hashing any raw message in an encrypted format."
   ]
  },
  {
   "cell_type": "code",
   "execution_count": 1,
   "id": "58497bb6",
   "metadata": {
    "collapsed": true
   },
   "outputs": [
    {
     "ename": "PermissionError",
     "evalue": "[Errno 13] Permission denied: 'NTUSER.DAT'",
     "output_type": "error",
     "traceback": [
      "\u001b[1;31m---------------------------------------------------------------------------\u001b[0m",
      "\u001b[1;31mPermissionError\u001b[0m                           Traceback (most recent call last)",
      "Cell \u001b[1;32mIn[1], line 24\u001b[0m\n\u001b[0;32m     22\u001b[0m filelist \u001b[38;5;241m=\u001b[39m [f \u001b[38;5;28;01mfor\u001b[39;00m f \u001b[38;5;129;01min\u001b[39;00m os\u001b[38;5;241m.\u001b[39mlistdir() \u001b[38;5;28;01mif\u001b[39;00m os\u001b[38;5;241m.\u001b[39mpath\u001b[38;5;241m.\u001b[39misfile(f)]\n\u001b[0;32m     23\u001b[0m \u001b[38;5;28;01mfor\u001b[39;00m f \u001b[38;5;129;01min\u001b[39;00m filelist:\n\u001b[1;32m---> 24\u001b[0m     key \u001b[38;5;241m=\u001b[39m \u001b[43mhashFile\u001b[49m\u001b[43m(\u001b[49m\u001b[43mf\u001b[49m\u001b[43m)\u001b[49m\n\u001b[0;32m     25\u001b[0m     \u001b[38;5;66;03m# If key already exists, it deletes the file\u001b[39;00m\n\u001b[0;32m     26\u001b[0m     \u001b[38;5;28;01mif\u001b[39;00m key \u001b[38;5;129;01min\u001b[39;00m hashMap\u001b[38;5;241m.\u001b[39mkeys():\n",
      "Cell \u001b[1;32mIn[1], line 9\u001b[0m, in \u001b[0;36mhashFile\u001b[1;34m(filename)\u001b[0m\n\u001b[0;32m      7\u001b[0m BLOCKSIZE \u001b[38;5;241m=\u001b[39m \u001b[38;5;241m65536\u001b[39m\n\u001b[0;32m      8\u001b[0m hasher \u001b[38;5;241m=\u001b[39m hashlib\u001b[38;5;241m.\u001b[39mmd5()\n\u001b[1;32m----> 9\u001b[0m \u001b[38;5;28;01mwith\u001b[39;00m \u001b[38;5;28;43mopen\u001b[39;49m\u001b[43m(\u001b[49m\u001b[43mfilename\u001b[49m\u001b[43m,\u001b[49m\u001b[43m \u001b[49m\u001b[38;5;124;43m'\u001b[39;49m\u001b[38;5;124;43mrb\u001b[39;49m\u001b[38;5;124;43m'\u001b[39;49m\u001b[43m)\u001b[49m \u001b[38;5;28;01mas\u001b[39;00m file:\n\u001b[0;32m     10\u001b[0m     \u001b[38;5;66;03m# Reads the particular blocksize from file\u001b[39;00m\n\u001b[0;32m     11\u001b[0m     buf \u001b[38;5;241m=\u001b[39m file\u001b[38;5;241m.\u001b[39mread(BLOCKSIZE)\n\u001b[0;32m     12\u001b[0m     \u001b[38;5;28;01mwhile\u001b[39;00m(\u001b[38;5;28mlen\u001b[39m(buf) \u001b[38;5;241m>\u001b[39m \u001b[38;5;241m0\u001b[39m):\n",
      "File \u001b[1;32m~\\anaconda3\\lib\\site-packages\\IPython\\core\\interactiveshell.py:282\u001b[0m, in \u001b[0;36m_modified_open\u001b[1;34m(file, *args, **kwargs)\u001b[0m\n\u001b[0;32m    275\u001b[0m \u001b[38;5;28;01mif\u001b[39;00m file \u001b[38;5;129;01min\u001b[39;00m {\u001b[38;5;241m0\u001b[39m, \u001b[38;5;241m1\u001b[39m, \u001b[38;5;241m2\u001b[39m}:\n\u001b[0;32m    276\u001b[0m     \u001b[38;5;28;01mraise\u001b[39;00m \u001b[38;5;167;01mValueError\u001b[39;00m(\n\u001b[0;32m    277\u001b[0m         \u001b[38;5;124mf\u001b[39m\u001b[38;5;124m\"\u001b[39m\u001b[38;5;124mIPython won\u001b[39m\u001b[38;5;124m'\u001b[39m\u001b[38;5;124mt let you open fd=\u001b[39m\u001b[38;5;132;01m{\u001b[39;00mfile\u001b[38;5;132;01m}\u001b[39;00m\u001b[38;5;124m by default \u001b[39m\u001b[38;5;124m\"\u001b[39m\n\u001b[0;32m    278\u001b[0m         \u001b[38;5;124m\"\u001b[39m\u001b[38;5;124mas it is likely to crash IPython. If you know what you are doing, \u001b[39m\u001b[38;5;124m\"\u001b[39m\n\u001b[0;32m    279\u001b[0m         \u001b[38;5;124m\"\u001b[39m\u001b[38;5;124myou can use builtins\u001b[39m\u001b[38;5;124m'\u001b[39m\u001b[38;5;124m open.\u001b[39m\u001b[38;5;124m\"\u001b[39m\n\u001b[0;32m    280\u001b[0m     )\n\u001b[1;32m--> 282\u001b[0m \u001b[38;5;28;01mreturn\u001b[39;00m io_open(file, \u001b[38;5;241m*\u001b[39margs, \u001b[38;5;241m*\u001b[39m\u001b[38;5;241m*\u001b[39mkwargs)\n",
      "\u001b[1;31mPermissionError\u001b[0m: [Errno 13] Permission denied: 'NTUSER.DAT'"
     ]
    }
   ],
   "source": [
    "import hashlib\n",
    "import os\n",
    "# Returns the hash string of the given file name\n",
    " \n",
    "def hashFile(filename):\n",
    "    # For large files, if we read it all together it can lead to memory overflow, So we take a blocksize to read at a time\n",
    "    BLOCKSIZE = 65536\n",
    "    hasher = hashlib.md5()\n",
    "    with open(filename, 'rb') as file:\n",
    "        # Reads the particular blocksize from file\n",
    "        buf = file.read(BLOCKSIZE)\n",
    "        while(len(buf) > 0):\n",
    "            hasher.update(buf)\n",
    "            buf = file.read(BLOCKSIZE)\n",
    "    return hasher.hexdigest()\n",
    " \n",
    "if __name__ == \"__main__\":\n",
    "    # Dictionary to store the hash and filename\n",
    "    hashMap = {}\n",
    "    # List to store deleted files\n",
    "    deletedFiles = []\n",
    "    filelist = [f for f in os.listdir() if os.path.isfile(f)]\n",
    "    for f in filelist:\n",
    "        key = hashFile(f)\n",
    "        # If key already exists, it deletes the file\n",
    "        if key in hashMap.keys():\n",
    "            deletedFiles.append(f)\n",
    "            os.remove(f)\n",
    "        else:\n",
    "            hashMap[key] = f\n",
    "    if len(deletedFiles) != 0:\n",
    "        print('Deleted Files')\n",
    "        for i in deletedFiles:\n",
    "            print(i)\n",
    "    else:\n",
    "        print('No duplicate files found')"
   ]
  }
 ],
 "metadata": {
  "kernelspec": {
   "display_name": "Python 3 (ipykernel)",
   "language": "python",
   "name": "python3"
  },
  "language_info": {
   "codemirror_mode": {
    "name": "ipython",
    "version": 3
   },
   "file_extension": ".py",
   "mimetype": "text/x-python",
   "name": "python",
   "nbconvert_exporter": "python",
   "pygments_lexer": "ipython3",
   "version": "3.10.9"
  }
 },
 "nbformat": 4,
 "nbformat_minor": 5
}
