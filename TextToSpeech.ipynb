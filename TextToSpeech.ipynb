{
 "cells": [
  {
   "cell_type": "markdown",
   "id": "4df1bbd7",
   "metadata": {},
   "source": [
    "Introduction :\n",
    "-------------------\n",
    "In this article, we are going to create our own audiobook, which converts texts to speech. We can use a python package to convert the text to speech known as gTTS.\n",
    "\n",
    "Project Prerequisites : \n",
    "-------------------------------\n",
    "\n",
    "We just need to install one package for this project.\n",
    "\n",
    "gTTS is a short form of Google Text-to-Speech a python library and a command-line interface (CLI) tool to interface with gTTS API(application programming interface).\n",
    "\n",
    "We will import the gTTS library from the gtts module which can be used for speech translation. The text variable is a string used to store the user’s input.\n",
    "\n",
    "Let’s get started…\n",
    "\n",
    "gTTS\n",
    "-------\n",
    "gTTS (Google Text-to-Speech), a Python library and CLI tool to interface with Google Translate’s text-to-speech API. Write spoken mp3 data to a file, a file-like object (bytestring) for further audio manipulation, or stdout. Or simply pre-generate Google Translate TTS request URLs to feed to an external program. http://gtts.readthedocs.org/\n",
    "\n",
    "Features\n",
    "------------\n",
    "Customizable speech-specific sentence tokenizer that allows for unlimited lengths of text to be read, all while keeping proper intonation, abbreviations, decimals and more;\n",
    "Customizable text pre-processors which can, for example, provide pronunciation corrections;"
   ]
  },
  {
   "cell_type": "code",
   "execution_count": 12,
   "id": "c67e0584",
   "metadata": {},
   "outputs": [
    {
     "name": "stdout",
     "output_type": "stream",
     "text": [
      "Please enter the data:D:\\Sample.txt\n",
      "enter the audo file name to be saved:Sampleread.mp3\n"
     ]
    }
   ],
   "source": [
    "from gtts import gTTS\n",
    "s = input('Please enter the data:')\n",
    "f = open(s)\n",
    "text = f.read()\n",
    "\n",
    "obj = gTTS(text = text , lang = 'en' , slow = True)\n",
    "\n",
    "f1 = input('enter the audo file name to be saved:')\n",
    "obj.save(f1)\n"
   ]
  }
 ],
 "metadata": {
  "kernelspec": {
   "display_name": "Python 3 (ipykernel)",
   "language": "python",
   "name": "python3"
  },
  "language_info": {
   "codemirror_mode": {
    "name": "ipython",
    "version": 3
   },
   "file_extension": ".py",
   "mimetype": "text/x-python",
   "name": "python",
   "nbconvert_exporter": "python",
   "pygments_lexer": "ipython3",
   "version": "3.9.7"
  }
 },
 "nbformat": 4,
 "nbformat_minor": 5
}
