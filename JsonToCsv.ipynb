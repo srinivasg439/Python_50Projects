{
 "cells": [
  {
   "cell_type": "code",
   "execution_count": 1,
   "id": "b2808572",
   "metadata": {
    "collapsed": true
   },
   "outputs": [
    {
     "name": "stdout",
     "output_type": "stream",
     "text": [
      "Error: [Errno 2] No such file or directory: 'input.json'\n"
     ]
    }
   ],
   "source": [
    "import json\n",
    " \n",
    "if __name__ == '__main__':\n",
    "    try:\n",
    "        with open('input.json', 'r') as f:\n",
    "            data = json.loads(f.read())\n",
    " \n",
    "        output = ','.join([*data[0]])\n",
    "        for obj in data:\n",
    "            output += f'\\n{obj[\"Name\"]},{obj[\"age\"]},{obj[\"birthyear\"]}'\n",
    " \n",
    "        with open('output.csv', 'w') as f:\n",
    "            f.write(output)\n",
    "    except Exception as ex:\n",
    "        print(f'Error: {str(ex)}')"
   ]
  }
 ],
 "metadata": {
  "kernelspec": {
   "display_name": "Python 3 (ipykernel)",
   "language": "python",
   "name": "python3"
  },
  "language_info": {
   "codemirror_mode": {
    "name": "ipython",
    "version": 3
   },
   "file_extension": ".py",
   "mimetype": "text/x-python",
   "name": "python",
   "nbconvert_exporter": "python",
   "pygments_lexer": "ipython3",
   "version": "3.10.9"
  }
 },
 "nbformat": 4,
 "nbformat_minor": 5
}
