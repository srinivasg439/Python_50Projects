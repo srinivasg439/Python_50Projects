{
 "cells": [
  {
   "cell_type": "markdown",
   "id": "d0f1595c",
   "metadata": {},
   "source": [
    "Outline:\n",
    "In this project, we will take the article link of any online article site like inprogrammer.com or GeeksForGeeks and give it as input for our python script and run it. After running the script we are redirected to the article link and the whole website will be saved as a PDF to our local PC.\n",
    "\n",
    "Project Prerequisites:\n",
    "You have to install only three packages in your system to run this script. Because we have to use the web driver in our project. We use Google Chrome as our browser for this project, make sure you have google chrome installed on your PC. We use the requests module to redirect to the respective website using the link provided as the input. We import the JSON module for our project."
   ]
  },
  {
   "cell_type": "code",
   "execution_count": 4,
   "id": "5ef07be1",
   "metadata": {},
   "outputs": [
    {
     "name": "stdout",
     "output_type": "stream",
     "text": [
      "provide article URL: https://www.geeksforgeeks.org/what-can-i-do-with-python/\n",
      "WebDriver.__init__() got an unexpected keyword argument 'executable_path'\n"
     ]
    }
   ],
   "source": [
    "from selenium import webdriver\n",
    "from webdriver_manager.chrome import ChromeDriverManager\n",
    "import json\n",
    "import requests\n",
    " \n",
    " \n",
    "# article url\n",
    "# URL = \"https://www.geeksforgeeks.org/what-can-i-do-with-python/\"\n",
    " \n",
    " \n",
    "def get_driver():\n",
    "    # chrome options settings\n",
    "    chrome_options = webdriver.ChromeOptions()\n",
    "    settings = {\n",
    "        \"recentDestinations\": [\n",
    "            {\"id\": \"Save as PDF\", \"origin\": \"local\", \"account\": \"\"}\n",
    "        ],\n",
    "        \"selectedDestinationId\": \"Save as PDF\",\n",
    "        \"version\": 2,\n",
    "    }\n",
    "    prefs = {\n",
    "        \"printing.print_preview_sticky_settings.appState\": json.dumps(settings)\n",
    "    }\n",
    "    chrome_options.add_experimental_option(\"prefs\", prefs)\n",
    "    chrome_options.add_argument(\"--kiosk-printing\")\n",
    " \n",
    "    # launch browser with predefined settings\n",
    "    browser = webdriver.Chrome(\n",
    "        executable_path=ChromeDriverManager().install(), options=chrome_options\n",
    "    )\n",
    "    return browser\n",
    " \n",
    " \n",
    "def download_article(URL):\n",
    "    browser = get_driver()\n",
    "    browser.get(URL)\n",
    " \n",
    "    # launch print and save as pdf\n",
    "    browser.execute_script(\"window.print();\")\n",
    "    browser.close()\n",
    " \n",
    " \n",
    "if __name__ == \"__main__\":\n",
    "    URL = input(\"provide article URL: \")\n",
    "    # check if the url is valid/reachable\n",
    "    if requests.get(URL).status_code == 200:\n",
    "        try:\n",
    "            download_article(URL)\n",
    "            print(\"Your article is successfully downloaded\")\n",
    "        except Exception as e:\n",
    "            print(e)\n",
    "    else:\n",
    "        print(\"Enter a valid working URL\")"
   ]
  }
 ],
 "metadata": {
  "kernelspec": {
   "display_name": "Python 3 (ipykernel)",
   "language": "python",
   "name": "python3"
  },
  "language_info": {
   "codemirror_mode": {
    "name": "ipython",
    "version": 3
   },
   "file_extension": ".py",
   "mimetype": "text/x-python",
   "name": "python",
   "nbconvert_exporter": "python",
   "pygments_lexer": "ipython3",
   "version": "3.10.9"
  }
 },
 "nbformat": 4,
 "nbformat_minor": 5
}
