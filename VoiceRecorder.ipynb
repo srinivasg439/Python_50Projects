{
 "cells": [
  {
   "cell_type": "markdown",
   "id": "40324f60",
   "metadata": {},
   "source": [
    "Project Prerequisites:\n",
    "To create a voice recorder using the Python programming language, you need to use the sounddevice library in Python. The sounddevice library will help you to record your voice, but to save your voice in a specific file format, you need to use the SciPy library in Python"
   ]
  },
  {
   "cell_type": "code",
   "execution_count": 7,
   "id": "abe924f9",
   "metadata": {},
   "outputs": [
    {
     "name": "stdout",
     "output_type": "stream",
     "text": [
      "Enter time limit for recording in seconds : 5\n",
      "Enter the name that you want the file to be saved with the extension .wavmyvoice.py\n",
      "Recording Started…\n",
      "Recording Finished\n"
     ]
    }
   ],
   "source": [
    "import sounddevice\n",
    "from scipy.io.wavfile import write\n",
    " \n",
    "time = int(input(\"Enter time limit for recording in seconds : \"))\n",
    "name = input(\"Enter the name that you want the file to be saved with the extension .wav\")\n",
    " \n",
    "def voice_recorder(seconds, file):\n",
    "    print(\"Recording Started…\")\n",
    "    recording = sounddevice.rec((seconds * 44100), samplerate= 44100, channels=2)\n",
    "    sounddevice.wait()\n",
    "    write(file, 44100, recording)\n",
    "    print(\"Recording Finished\")\n",
    " \n",
    "voice_recorder(time,name)"
   ]
  }
 ],
 "metadata": {
  "kernelspec": {
   "display_name": "Python 3 (ipykernel)",
   "language": "python",
   "name": "python3"
  },
  "language_info": {
   "codemirror_mode": {
    "name": "ipython",
    "version": 3
   },
   "file_extension": ".py",
   "mimetype": "text/x-python",
   "name": "python",
   "nbconvert_exporter": "python",
   "pygments_lexer": "ipython3",
   "version": "3.10.9"
  }
 },
 "nbformat": 4,
 "nbformat_minor": 5
}
