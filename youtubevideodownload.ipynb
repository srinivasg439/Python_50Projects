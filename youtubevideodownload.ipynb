{
 "cells": [
  {
   "cell_type": "markdown",
   "id": "837e5b73",
   "metadata": {},
   "source": [
    "Introduction:\n",
    "YouTube is a very popular video-sharing website. Downloading a video from YouTube is quite a tough job. Download extensions to download YouTube videos or use another website to get the video. Using Python, this task is very easy. A few lines of code will download the video from YouTube for you. For this, there is a python library named ‘pytube’. pytube is a lightweight, dependency-free Python library that is used for downloading videos from the web."
   ]
  },
  {
   "cell_type": "code",
   "execution_count": 2,
   "id": "821763ea",
   "metadata": {},
   "outputs": [
    {
     "name": "stdout",
     "output_type": "stream",
     "text": [
      "Paste the url here : https://www.youtube.com/watch?v=wb92vWTeQJI\n",
      "Downloaded Successfully,  https://www.youtube.com/watch?v=wb92vWTeQJI\n"
     ]
    }
   ],
   "source": [
    "# Program to download youtube vidoes\n",
    " \n",
    "# Importing the module\n",
    "import pytube \n",
    " \n",
    "# Taking input the link\n",
    "link = input('Paste the url here : ')\n",
    " \n",
    "# Using the module to download the video\n",
    "video = pytube.YouTube(link)\n",
    "video.streams.first().download()\n",
    " \n",
    "#promt to make sure that the download is complete\n",
    "print(\"Downloaded Successfully, \",link)"
   ]
  }
 ],
 "metadata": {
  "kernelspec": {
   "display_name": "Python 3 (ipykernel)",
   "language": "python",
   "name": "python3"
  },
  "language_info": {
   "codemirror_mode": {
    "name": "ipython",
    "version": 3
   },
   "file_extension": ".py",
   "mimetype": "text/x-python",
   "name": "python",
   "nbconvert_exporter": "python",
   "pygments_lexer": "ipython3",
   "version": "3.10.9"
  }
 },
 "nbformat": 4,
 "nbformat_minor": 5
}
