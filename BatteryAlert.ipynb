{
 "cells": [
  {
   "cell_type": "markdown",
   "id": "0027e220",
   "metadata": {},
   "source": [
    "Introduction:\n",
    "As a laptop user, you must take caution about your battery because the battery is also the most important component.\n",
    "If you are using an old laptop then you might be a wonder to protect your battery from getting overcharged as well wanted to protect from getting drained at 0%.\n",
    "Even if you have a new and very high-spec laptop still you need to take caution or protect your battery to get overcharged.\n",
    "So, in this case, you might use any battery percentage indicator application on your laptop to save your battery life.\n",
    "and what if I tell you!! You can do the same things with the help of a simple python script.\n",
    "\n",
    "Outline:\n",
    "In this project, we won’t take any input. We just write our python script in any text editor or IDE and run it. We can define our own battery alert notification at our desired battery percentage level.\n",
    "\n",
    "Project Prerequisites:\n",
    "You will have to install some packages in your system to run this script and work successfully.\n",
    "\n",
    "psutil: psutil (process and system utilities) is a cross-platform library for retrieving information on running processes and system utilization (CPU, memory, disks, network, sensors) in Python. It is useful mainly for system monitoring, profiling, limiting process resources, and management of running processes. "
   ]
  },
  {
   "cell_type": "code",
   "execution_count": 7,
   "id": "913aecdd",
   "metadata": {
    "collapsed": true
   },
   "outputs": [
    {
     "ename": "ModuleNotFoundError",
     "evalue": "No module named 'Notification'",
     "output_type": "error",
     "traceback": [
      "\u001b[1;31m---------------------------------------------------------------------------\u001b[0m",
      "\u001b[1;31mModuleNotFoundError\u001b[0m                       Traceback (most recent call last)",
      "Cell \u001b[1;32mIn[7], line 2\u001b[0m\n\u001b[0;32m      1\u001b[0m \u001b[38;5;28;01mimport\u001b[39;00m \u001b[38;5;21;01mpsutil\u001b[39;00m\n\u001b[1;32m----> 2\u001b[0m \u001b[38;5;28;01mimport\u001b[39;00m \u001b[38;5;21;01mNotification\u001b[39;00m\n\u001b[0;32m      4\u001b[0m battery \u001b[38;5;241m=\u001b[39m psutil\u001b[38;5;241m.\u001b[39msensors_battery()\n\u001b[0;32m      5\u001b[0m plugged \u001b[38;5;241m=\u001b[39m battery\u001b[38;5;241m.\u001b[39mpower_plugged\n",
      "\u001b[1;31mModuleNotFoundError\u001b[0m: No module named 'Notification'"
     ]
    }
   ],
   "source": [
    "import psutil\n",
    "from pynotifier import Notification\n",
    " \n",
    "battery = psutil.sensors_battery()\n",
    "plugged = battery.power_plugged\n",
    "percent = battery.percent\n",
    " \n",
    "if percent <= 30 and plugged!=True:\n",
    "    Notification(\n",
    "        title=\"Battery Low\",\n",
    "        description=str(percent) + \"% Battery remain!!\",\n",
    "        duration=5,  # Duration in seconds\n",
    "         \n",
    "    ).send()"
   ]
  }
 ],
 "metadata": {
  "kernelspec": {
   "display_name": "Python 3 (ipykernel)",
   "language": "python",
   "name": "python3"
  },
  "language_info": {
   "codemirror_mode": {
    "name": "ipython",
    "version": 3
   },
   "file_extension": ".py",
   "mimetype": "text/x-python",
   "name": "python",
   "nbconvert_exporter": "python",
   "pygments_lexer": "ipython3",
   "version": "3.10.9"
  }
 },
 "nbformat": 4,
 "nbformat_minor": 5
}
