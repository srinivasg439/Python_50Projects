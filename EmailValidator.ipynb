{
 "cells": [
  {
   "cell_type": "markdown",
   "id": "68dcd0dc",
   "metadata": {},
   "source": [
    "Introduction:\n",
    "An email is a string (a subset of ASCII characters) separated into two parts by @ symbol, a “personal_info” and a domain, that is personal_info@domain. We can use the re (Regular Expression) module in python to do this. A regular expression (or RE) specifies a set of strings that matches it; the functions in this module let you check if a particular string matches a given regular expression (or if a given regular expression matches a particular string, which comes down to the same thing). \n",
    "\n",
    "Project Prerequisites:\n",
    "re module is a built-in module of python that comes along when we install python, so we don’t need to install it separately.\n",
    "You should have some prior knowledge about the re (Regular Expression) module.\n",
    "To know about the re (Regular Expression) module you can refer to this link –"
   ]
  },
  {
   "cell_type": "code",
   "execution_count": 1,
   "id": "ff4b0720",
   "metadata": {
    "collapsed": true
   },
   "outputs": [
    {
     "name": "stdout",
     "output_type": "stream",
     "text": [
      "Enter user email ID : gsrinivas961@gmail.com\n",
      "Valid Email\n"
     ]
    }
   ],
   "source": [
    "# Python program to validate an Email\n",
    " \n",
    "# import re module\n",
    "import re\n",
    "  \n",
    "# Make a regular expression\n",
    "email_condition=\"^[a-z]+[\\._]?[a-z 0-9]+[@]\\w+[.]\\w{2,3}$\"\n",
    " \n",
    "# taking input the Email\n",
    " \n",
    "user_email=input('Enter user email ID : ')\n",
    " \n",
    "# Validating Email \n",
    "# We will use the search method from re module\n",
    " \n",
    "if re.search(email_condition,user_email) : \n",
    "    print('Valid Email')\n",
    "else : \n",
    "    print('Invalid Email')"
   ]
  }
 ],
 "metadata": {
  "kernelspec": {
   "display_name": "Python 3 (ipykernel)",
   "language": "python",
   "name": "python3"
  },
  "language_info": {
   "codemirror_mode": {
    "name": "ipython",
    "version": 3
   },
   "file_extension": ".py",
   "mimetype": "text/x-python",
   "name": "python",
   "nbconvert_exporter": "python",
   "pygments_lexer": "ipython3",
   "version": "3.10.9"
  }
 },
 "nbformat": 4,
 "nbformat_minor": 5
}
