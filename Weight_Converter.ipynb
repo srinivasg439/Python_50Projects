{
 "cells": [
  {
   "cell_type": "markdown",
   "id": "f0d7ed52",
   "metadata": {},
   "source": [
    "Outline:\n",
    "In this project, we will take Kilograms as input from the user and convert them into grams, ounces, and pounds. We just write our python script in any text editor or IDE and run it.\n",
    "\n",
    "After running the script a new window will appear with GUI(Graphical User Interface), we can enter a value in KG’s and get the respective values."
   ]
  },
  {
   "cell_type": "code",
   "execution_count": 2,
   "id": "e76c5f91",
   "metadata": {},
   "outputs": [],
   "source": [
    "from tkinter import *\n",
    "# Creating a GUI Window\n",
    "window = Tk()\n",
    "def from_kg():\n",
    "    gram = float(e2_value.get())*1000\n",
    "    pound = float(e2_value.get())*2.20462\n",
    "    ounce = float(e2_value.get())*35.274\n",
    "    t1.delete(\"1.0\",END)\n",
    "    t1.insert(END, gram)\n",
    "    t2.delete(\"1.0\", END)\n",
    "    t2.insert(END, pound)\n",
    "    t3.delete(\"1.0\", END)\n",
    "    t3.insert(END, ounce)\n",
    " \n",
    "e1 = Label(window, text=\"Input the weight in KG\")\n",
    "e2_value = StringVar()\n",
    "e2 = Entry(window, textvariable=e2_value)\n",
    "e3 = Label(window, text=\"Gram\")\n",
    "e4 = Label(window, text=\"Pound\")\n",
    "e5 = Label(window, text=\"Ounce\")\n",
    " \n",
    "t1 = Text(window, height=5, width=30)\n",
    "t2 = Text(window, height=5, width=30)\n",
    "t3 = Text(window, height=5, width=30)\n",
    " \n",
    "b1 = Button(window, text=\"Convert\", command=from_kg)\n",
    " \n",
    "e1.grid(row=0, column=0)\n",
    "e2.grid(row=0, column=1)\n",
    "e3.grid(row=1, column=0)\n",
    "e4.grid(row=1, column=1)\n",
    "e5.grid(row=1, column=2)\n",
    "t1.grid(row=2, column=0)\n",
    "t2.grid(row=2, column=1)\n",
    "t3.grid(row=2, column=2)\n",
    "b1.grid(row=0, column=2)\n",
    " \n",
    "window.mainloop()"
   ]
  }
 ],
 "metadata": {
  "kernelspec": {
   "display_name": "Python 3 (ipykernel)",
   "language": "python",
   "name": "python3"
  },
  "language_info": {
   "codemirror_mode": {
    "name": "ipython",
    "version": 3
   },
   "file_extension": ".py",
   "mimetype": "text/x-python",
   "name": "python",
   "nbconvert_exporter": "python",
   "pygments_lexer": "ipython3",
   "version": "3.9.7"
  }
 },
 "nbformat": 4,
 "nbformat_minor": 5
}
